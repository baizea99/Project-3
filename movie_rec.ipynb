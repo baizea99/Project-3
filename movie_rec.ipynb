{
 "cells": [
  {
   "cell_type": "code",
   "execution_count": 1,
   "id": "d05fe423-4d96-4122-855a-5ae4b7a42daa",
   "metadata": {},
   "outputs": [],
   "source": [
    "import pandas as pd\n",
    "from sklearn.feature_extraction.text import TfidfVectorizer\n",
    "from sklearn.metrics.pairwise import linear_kernel\n",
    "\n",
    "# Load data\n",
    "ratings = pd.read_csv('Resources/ratings.dat', sep='::', engine='python', names=['user_id', 'movie_id', 'rating', 'timestamp'], encoding='ISO-8859-1')\n",
    "movies = pd.read_csv('Resources/movies.dat', sep='::', engine='python', names=['movie_id', 'title', 'genres'], encoding='ISO-8859-1')\n"
   ]
  },
  {
   "cell_type": "code",
   "execution_count": 2,
   "id": "0321871c-638b-47e8-8e30-64e104629221",
   "metadata": {},
   "outputs": [],
   "source": [
    "# Combine genres and titles for TF-IDF\n",
    "movies['combined_features'] = movies['genres'] + ' ' + movies['title']\n",
    "\n",
    "# Create a TF-IDF Vectorizer\n",
    "tfidf = TfidfVectorizer(stop_words='english')\n",
    "tfidf_matrix = tfidf.fit_transform(movies['combined_features'])"
   ]
  },
  {
   "cell_type": "code",
   "execution_count": 3,
   "id": "0ddf6643-c88f-4a5f-bf73-0833dd59d583",
   "metadata": {},
   "outputs": [],
   "source": [
    "# Compute the cosine similarity matrix\n",
    "cosine_sim = linear_kernel(tfidf_matrix, tfidf_matrix)"
   ]
  },
  {
   "cell_type": "code",
   "execution_count": 6,
   "id": "a36412ee-3fd0-40fc-80fb-b497695d8aa7",
   "metadata": {},
   "outputs": [],
   "source": [
    "def get_content_based_recommendations(title, cosine_sim=cosine_sim):\n",
    "    # Find a matching movie title, using a case-insensitive match\n",
    "    match = movies[movies['title'].str.contains(title, case=False, na=False)]\n",
    "    if match.empty:\n",
    "        return f\"No matches found for {title}. Please check the title and try again.\"\n",
    "    \n",
    "    idx = match.index[0]  # Use the first match if multiple matches are found\n",
    "    sim_scores = list(enumerate(cosine_sim[idx]))\n",
    "    sim_scores = sorted(sim_scores, key=lambda x: x[1], reverse=True)\n",
    "    sim_scores = sim_scores[1:11]  # Get top 10 recommendations excluding itself\n",
    "    movie_indices = [i[0] for i in sim_scores]\n",
    "    return movies['title'].iloc[movie_indices]\n"
   ]
  },
  {
   "cell_type": "code",
   "execution_count": 9,
   "id": "e5feccf3-fd18-41d3-80b1-1bc7375d21aa",
   "metadata": {},
   "outputs": [
    {
     "name": "stdout",
     "output_type": "stream",
     "text": [
      "1954       Godfather: Part III, The (1990)\n",
      "1203        Godfather: Part II, The (1974)\n",
      "3713             Shaft's Big Score! (1972)\n",
      "1066                 Candidate, The (1972)\n",
      "3519    King of Marvin Gardens, The (1972)\n",
      "1944        Poseidon Adventure, The (1972)\n",
      "2109                         Frenzy (1972)\n",
      "3688                         Asylum (1972)\n",
      "3694                            F/X (1986)\n",
      "3695                          F/X 2 (1992)\n",
      "Name: title, dtype: object\n"
     ]
    }
   ],
   "source": [
    "# Usage\n",
    "recommendations = get_content_based_recommendations('Godfather')\n",
    "print(recommendations)"
   ]
  },
  {
   "cell_type": "code",
   "execution_count": null,
   "id": "5a354d8d-06a9-4a8c-916f-9524913f60c5",
   "metadata": {},
   "outputs": [],
   "source": []
  }
 ],
 "metadata": {
  "kernelspec": {
   "display_name": "ai_dev",
   "language": "python",
   "name": "ai_dev"
  },
  "language_info": {
   "codemirror_mode": {
    "name": "ipython",
    "version": 3
   },
   "file_extension": ".py",
   "mimetype": "text/x-python",
   "name": "python",
   "nbconvert_exporter": "python",
   "pygments_lexer": "ipython3",
   "version": "3.10.13"
  }
 },
 "nbformat": 4,
 "nbformat_minor": 5
}
