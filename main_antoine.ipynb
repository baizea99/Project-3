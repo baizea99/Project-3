{
 "cells": [
  {
   "cell_type": "code",
   "execution_count": 13,
   "id": "49c6b034-9b66-4636-9fbb-96354115d5fe",
   "metadata": {},
   "outputs": [
    {
     "name": "stderr",
     "output_type": "stream",
     "text": [
      "[nltk_data] Downloading package punkt to\n",
      "[nltk_data]     C:\\Users\\antoi\\AppData\\Roaming\\nltk_data...\n",
      "[nltk_data]   Package punkt is already up-to-date!\n"
     ]
    },
    {
     "data": {
      "text/plain": [
       "True"
      ]
     },
     "execution_count": 13,
     "metadata": {},
     "output_type": "execute_result"
    }
   ],
   "source": [
    "import nltk\n",
    "from nltk.tokenize import sent_tokenize\n",
    "from vaderSentiment.vaderSentiment import SentimentIntensityAnalyzer\n",
    "from colorama import Fore, Style, init\n",
    "\n",
    "# Download the Punkt sentence tokenizer models\n",
    "nltk.download('punkt')\n"
   ]
  },
  {
   "cell_type": "code",
   "execution_count": 14,
   "id": "b3ac5a96-7320-4db4-8142-6674d8795358",
   "metadata": {},
   "outputs": [],
   "source": [
    "def paragraph_to_sentences(paragraph):\n",
    "    return sent_tokenize(paragraph)"
   ]
  },
  {
   "cell_type": "code",
   "execution_count": 15,
   "id": "f063a3d2-51c3-4ff3-9adb-d18bd71d4497",
   "metadata": {},
   "outputs": [],
   "source": [
    "pos_paragraph = \"The sunlit morning brought a sense of joy as I stepped outside, feeling the warmth on my face. The sight of blooming flowers filled me with delight, their vibrant colors brightening my day. As I walked through the park, the laughter of children playing brought a wave of contentment that made me smile. I stumbled upon a friendly neighbor who shared exciting news, filling me with excitement and a sense of hope for the future. Each moment of the day seemed to sparkle with gratitude, reminding me of the beauty in life's simple pleasures.\"\n",
    "neg_paragraph = \"The dark clouds overhead cast a shadow of sorrow over my day, making everything feel gloomy. As I trudged through the rain, a wave of frustration washed over me, each drop feeling like an added burden. The argument with a close friend left me feeling a deep disappointment, weighing heavily on my heart. The isolation of the empty streets filled me with a sense of loneliness that seemed almost palpable. By the end of the day, an overwhelming despair settled in, leaving me longing for a glimmer of hope.\"\n",
    "neu_paragraph = \"The morning began with a routine calmness as I prepared my breakfast, following the usual steps. I glanced at the clock and noted the time with a sense of indifference, neither rushing nor lingering. The tasks at work proceeded as expected, bringing a feeling of neutrality to the day’s activities. During lunch, the conversation was pleasant but unremarkable, with no strong opinions exchanged. As evening approached, I settled into a steadiness that wrapped up the day with a sense of quiet satisfaction.\""
   ]
  },
  {
   "cell_type": "code",
   "execution_count": 51,
   "id": "7d0ad68e-d644-4b2b-b743-8962e519b020",
   "metadata": {},
   "outputs": [
    {
     "name": "stdout",
     "output_type": "stream",
     "text": [
      "['The dark clouds overhead cast a shadow of sorrow over my day, making everything feel gloomy.', 'As I trudged through the rain, a wave of frustration washed over me, each drop feeling like an added burden.', 'The argument with a close friend left me feeling a deep disappointment, weighing heavily on my heart.', 'The isolation of the empty streets filled me with a sense of loneliness that seemed almost palpable.', 'By the end of the day, an overwhelming despair settled in, leaving me longing for a glimmer of hope.']\n"
     ]
    }
   ],
   "source": [
    "paragraph = \"In the early morning glow, Sarah felt a surge of excitement as she laced up her new running shoes, the promise of the day sparking joy in her heart. By noon, frustration crept in as her work emails piled up, each one a reminder of the relentless pace of her job. Later, a melancholic nostalgia washed over her as she stumbled upon an old photo of her childhood home, the memories bittersweet and tender. In the evening, a deep sense of peace settled over her as she sat by the fire, her cat curled up beside her, the soft purring a soothing balm to the day's rollercoaster of emotions.\"\n",
    "sentences = paragraph_to_sentences(neg_paragraph)\n",
    "print(sentences)"
   ]
  },
  {
   "cell_type": "code",
   "execution_count": 52,
   "id": "77bceeb2-dee4-4ec6-b1de-ad140a0f0b85",
   "metadata": {},
   "outputs": [
    {
     "name": "stdout",
     "output_type": "stream",
     "text": [
      "The dark clouds overhead cast a shadow of sorrow over my day, making everything feel gloomy. {'neg': 0.263, 'neu': 0.737, 'pos': 0.0, 'compound': -0.6124}\n",
      "As I trudged through the rain, a wave of frustration washed over me, each drop feeling like an added burden. {'neg': 0.299, 'neu': 0.554, 'pos': 0.148, 'compound': -0.6249}\n",
      "The argument with a close friend left me feeling a deep disappointment, weighing heavily on my heart. {'neg': 0.217, 'neu': 0.449, 'pos': 0.333, 'compound': 0.4767}\n",
      "The isolation of the empty streets filled me with a sense of loneliness that seemed almost palpable. {'neg': 0.343, 'neu': 0.657, 'pos': 0.0, 'compound': -0.743}\n",
      "By the end of the day, an overwhelming despair settled in, leaving me longing for a glimmer of hope. {'neg': 0.152, 'neu': 0.717, 'pos': 0.13, 'compound': 0.128}\n"
     ]
    }
   ],
   "source": [
    "analyzer = SentimentIntensityAnalyzer()\n",
    "all_scores = []\n",
    "for sentence in sentences:\n",
    "    vs = analyzer.polarity_scores(sentence)\n",
    "    all_scores.append(vs)\n",
    "    print(\"{:-<65} {}\".format(sentence, str(vs)))"
   ]
  },
  {
   "cell_type": "code",
   "execution_count": 45,
   "id": "74e6649a-4d6c-4d43-bfe8-179f2a145ba0",
   "metadata": {},
   "outputs": [
    {
     "data": {
      "text/plain": [
       "[{'neg': 0.0, 'neu': 0.649, 'pos': 0.351, 'compound': 0.926},\n",
       " {'neg': 0.128, 'neu': 0.823, 'pos': 0.049, 'compound': -0.4404},\n",
       " {'neg': 0.11, 'neu': 0.89, 'pos': 0.0, 'compound': -0.1531},\n",
       " {'neg': 0.06, 'neu': 0.796, 'pos': 0.144, 'compound': 0.5267}]"
      ]
     },
     "execution_count": 45,
     "metadata": {},
     "output_type": "execute_result"
    }
   ],
   "source": [
    "all_scores"
   ]
  },
  {
   "cell_type": "code",
   "execution_count": 46,
   "id": "683114f5-0dff-4fa6-a4e3-876408eda640",
   "metadata": {},
   "outputs": [],
   "source": [
    "# Define ranges\n",
    "def categorize(compound):\n",
    "    if compound > 0.45:\n",
    "        return 'Positive'\n",
    "    elif -0.45 <= compound <= 0.45:\n",
    "        return 'Neutral'\n",
    "    else:\n",
    "        return 'Negative'"
   ]
  },
  {
   "cell_type": "code",
   "execution_count": 47,
   "id": "11ba160f-e6cc-4ac0-8eff-136db0e5245a",
   "metadata": {},
   "outputs": [],
   "source": [
    "# Define fixed colors for categories\n",
    "def get_color(category):\n",
    "    if category == 'Positive':\n",
    "        return Fore.GREEN\n",
    "    elif category == 'Neutral':\n",
    "        return Fore.YELLOW\n",
    "    elif category == 'Negative':\n",
    "        return Fore.RED\n",
    "    else:\n",
    "        return Fore.WHITE"
   ]
  },
  {
   "cell_type": "code",
   "execution_count": 48,
   "id": "f59fd4ee-2d04-4ed1-9b9a-92dc1442e084",
   "metadata": {},
   "outputs": [],
   "source": [
    "# Define emotion categories based on detailed sentiment analysis\n",
    "def categorize_emotion(score):\n",
    "    neg, neu, pos, compound = score['neg'], score['neu'], score['pos'], score['compound']\n",
    "    \n",
    "    if compound >= 0.9:\n",
    "        if pos > 0.45:\n",
    "            return \"Excited\"\n",
    "        return \"Highly Positive\"\n",
    "    elif compound >= 0.7:\n",
    "        if pos > 0.4:\n",
    "            return \"Joyful\"\n",
    "        return \"Quite Positive\"\n",
    "    elif compound >= 0.5:\n",
    "        if pos > 0.35:\n",
    "            return \"Content\"\n",
    "        return \"Moderately Positive\"\n",
    "    elif compound > 0:\n",
    "        if pos > 0.25:\n",
    "            return \"Slightly Positive\"\n",
    "        return \"Mildly Positive\"\n",
    "    elif compound == 0:\n",
    "        return \"Neutral\"\n",
    "    elif compound > -0.2:\n",
    "        return \"Slightly Negative\"\n",
    "    elif compound > -0.5:\n",
    "        return \"Frustrated\"\n",
    "    else:\n",
    "        return \"Gloomy\""
   ]
  },
  {
   "cell_type": "code",
   "execution_count": 49,
   "id": "56fc5906-c275-48ad-aaae-b6f1c9c8aa16",
   "metadata": {},
   "outputs": [
    {
     "name": "stdout",
     "output_type": "stream",
     "text": [
      "In the early morning glow, Sarah felt a surge of excitement as she laced up her new running shoes, the promise of the day sparking joy in her heart. - Highly Positive\n",
      "By noon, frustration crept in as her work emails piled up, each one a reminder of the relentless pace of her job. - Frustrated\n",
      "Later, a melancholic nostalgia washed over her as she stumbled upon an old photo of her childhood home, the memories bittersweet and tender. - Slightly Negative\n",
      "In the evening, a deep sense of peace settled over her as she sat by the fire, her cat curled up beside her, the soft purring a soothing balm to the day's rollercoaster of emotions. - Moderately Positive\n"
     ]
    }
   ],
   "source": [
    "# Assign each sentence to an emotion category\n",
    "emotions = [categorize_emotion(score) for score in all_scores]\n",
    "\n",
    "# Output the sentences with their labeled emotions\n",
    "for sentence, emotion in zip(sentences, emotions):\n",
    "    print(f\"{sentence} - {emotion}\")\n"
   ]
  },
  {
   "cell_type": "code",
   "execution_count": 50,
   "id": "7ec85efe-3a71-41a7-9c0a-a33b9e9f1d98",
   "metadata": {},
   "outputs": [
    {
     "name": "stdout",
     "output_type": "stream",
     "text": [
      "\u001b[32mIn the early morning glow, Sarah felt a surge of excitement as she laced up her new running shoes, the promise of the day sparking joy in her heart.\u001b[0m \u001b[33mBy noon, frustration crept in as her work emails piled up, each one a reminder of the relentless pace of her job.\u001b[0m \u001b[33mLater, a melancholic nostalgia washed over her as she stumbled upon an old photo of her childhood home, the memories bittersweet and tender.\u001b[0m \u001b[32mIn the evening, a deep sense of peace settled over her as she sat by the fire, her cat curled up beside her, the soft purring a soothing balm to the day's rollercoaster of emotions.\u001b[0m\n"
     ]
    }
   ],
   "source": [
    "# Combine sentences with their scores and colorize\n",
    "colorized_sentences = []\n",
    "for sentence, score in zip(sentences, all_scores):\n",
    "    category = categorize(score['compound'])\n",
    "    color = get_color(category)\n",
    "    colorized_sentence = f\"{color}{sentence}{Style.RESET_ALL}\"\n",
    "    colorized_sentences.append(colorized_sentence)\n",
    "    \n",
    "# Combine sentences into a paragraph\n",
    "paragraph = ' '.join(colorized_sentences)\n",
    "\n",
    "# Print the colorized paragraph\n",
    "print(paragraph)"
   ]
  },
  {
   "cell_type": "code",
   "execution_count": 42,
   "id": "096d1537-c214-42ef-ac5e-f8554e705e17",
   "metadata": {},
   "outputs": [
    {
     "name": "stdout",
     "output_type": "stream",
     "text": [
      "Positive:\n",
      "  {'neg': 0.0, 'neu': 0.644, 'pos': 0.356, 'compound': 0.8074}\n",
      "  {'neg': 0.0, 'neu': 0.526, 'pos': 0.474, 'compound': 0.8957}\n",
      "  {'neg': 0.0, 'neu': 0.615, 'pos': 0.385, 'compound': 0.8402}\n",
      "  {'neg': 0.0, 'neu': 0.533, 'pos': 0.467, 'compound': 0.9313}\n",
      "  {'neg': 0.0, 'neu': 0.54, 'pos': 0.46, 'compound': 0.9153}\n",
      "Neutral:\n",
      "Negative:\n"
     ]
    }
   ],
   "source": [
    "# Sort data into categories\n",
    "sorted_data = {'Positive': [], 'Neutral': [], 'Negative': []}\n",
    "\n",
    "for entry in all_scores:\n",
    "    category = categorize(entry['compound'])\n",
    "    sorted_data[category].append(entry)\n",
    "\n",
    "# Print sorted data\n",
    "for category, entries in sorted_data.items():\n",
    "    print(f\"{category}:\")\n",
    "    for entry in entries:\n",
    "        print(f\"  {entry}\")"
   ]
  },
  {
   "cell_type": "code",
   "execution_count": null,
   "id": "b6841aed-f0c7-4407-8e3d-ea1365486af9",
   "metadata": {},
   "outputs": [],
   "source": []
  }
 ],
 "metadata": {
  "kernelspec": {
   "display_name": "ai_dev",
   "language": "python",
   "name": "ai_dev"
  },
  "language_info": {
   "codemirror_mode": {
    "name": "ipython",
    "version": 3
   },
   "file_extension": ".py",
   "mimetype": "text/x-python",
   "name": "python",
   "nbconvert_exporter": "python",
   "pygments_lexer": "ipython3",
   "version": "3.10.13"
  }
 },
 "nbformat": 4,
 "nbformat_minor": 5
}
