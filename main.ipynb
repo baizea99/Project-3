{
 "cells": [
  {
   "cell_type": "code",
   "execution_count": 1,
   "id": "f91d7ff7-f55c-4cc8-84c8-1b9561f36f1f",
   "metadata": {},
   "outputs": [
    {
     "name": "stderr",
     "output_type": "stream",
     "text": [
      "No model was supplied, defaulted to distilbert/distilbert-base-uncased-finetuned-sst-2-english and revision af0f99b (https://huggingface.co/distilbert/distilbert-base-uncased-finetuned-sst-2-english).\n",
      "Using a pipeline without specifying a model name and revision in production is not recommended.\n"
     ]
    },
    {
     "data": {
      "application/vnd.jupyter.widget-view+json": {
       "model_id": "944f8ef92f2a43e49eb58c72f8914040",
       "version_major": 2,
       "version_minor": 0
      },
      "text/plain": [
       "config.json:   0%|          | 0.00/629 [00:00<?, ?B/s]"
      ]
     },
     "metadata": {},
     "output_type": "display_data"
    },
    {
     "name": "stdout",
     "output_type": "stream",
     "text": [
      "WARNING:tensorflow:From C:\\Users\\antoi\\anaconda3\\envs\\ai_dev\\lib\\site-packages\\tf_keras\\src\\losses.py:2976: The name tf.losses.sparse_softmax_cross_entropy is deprecated. Please use tf.compat.v1.losses.sparse_softmax_cross_entropy instead.\n",
      "\n"
     ]
    },
    {
     "data": {
      "application/vnd.jupyter.widget-view+json": {
       "model_id": "bb57b744bbd34fb0bea3b42d63eccd67",
       "version_major": 2,
       "version_minor": 0
      },
      "text/plain": [
       "model.safetensors:   0%|          | 0.00/268M [00:00<?, ?B/s]"
      ]
     },
     "metadata": {},
     "output_type": "display_data"
    },
    {
     "data": {
      "application/vnd.jupyter.widget-view+json": {
       "model_id": "1ffc9e4cb16a490794ddbf7bd4ba2bf6",
       "version_major": 2,
       "version_minor": 0
      },
      "text/plain": [
       "tokenizer_config.json:   0%|          | 0.00/48.0 [00:00<?, ?B/s]"
      ]
     },
     "metadata": {},
     "output_type": "display_data"
    },
    {
     "data": {
      "application/vnd.jupyter.widget-view+json": {
       "model_id": "8ffddc8b72c34a5fa888aefcb64580be",
       "version_major": 2,
       "version_minor": 0
      },
      "text/plain": [
       "vocab.txt:   0%|          | 0.00/232k [00:00<?, ?B/s]"
      ]
     },
     "metadata": {},
     "output_type": "display_data"
    }
   ],
   "source": [
    "from transformers import pipeline\n",
    "\n",
    "# Load the sentiment analysis pipeline\n",
    "sentiment_analyzer = pipeline(\"sentiment-analysis\")"
   ]
  },
  {
   "cell_type": "code",
   "execution_count": 2,
   "id": "49c6b034-9b66-4636-9fbb-96354115d5fe",
   "metadata": {},
   "outputs": [
    {
     "name": "stderr",
     "output_type": "stream",
     "text": [
      "[nltk_data] Downloading package punkt to\n",
      "[nltk_data]     C:\\Users\\antoi\\AppData\\Roaming\\nltk_data...\n",
      "[nltk_data]   Package punkt is already up-to-date!\n"
     ]
    },
    {
     "data": {
      "text/plain": [
       "True"
      ]
     },
     "execution_count": 2,
     "metadata": {},
     "output_type": "execute_result"
    }
   ],
   "source": [
    "import nltk\n",
    "from nltk.tokenize import sent_tokenize\n",
    "\n",
    "# Download the Punkt sentence tokenizer models\n",
    "nltk.download('punkt')\n"
   ]
  },
  {
   "cell_type": "code",
   "execution_count": 3,
   "id": "6df2590c-a7f6-453c-9430-8a651ac41ebd",
   "metadata": {},
   "outputs": [],
   "source": [
    "def analyze_paragraph_sentiment(text):\n",
    "    # Split the paragraph into sentences\n",
    "    sentences = sent_tokenize(text)\n",
    "    results = []\n",
    "    \n",
    "    # Analyze sentiment for each sentence\n",
    "    for sentence in sentences:\n",
    "        result = sentiment_analyzer(sentence)\n",
    "        results.append((sentence, result[0]['label'], result[0]['score']))\n",
    "        \n",
    "    return results"
   ]
  },
  {
   "cell_type": "code",
   "execution_count": 4,
   "id": "a49d9f6b-630f-4c6e-834d-b4dbb319d3b4",
   "metadata": {},
   "outputs": [],
   "source": [
    "def colorize_text(sentiments):\n",
    "    colored_text = \"\"\n",
    "    for sentence, sentiment, score in sentiments:\n",
    "        if sentiment == 'POSITIVE':\n",
    "            color = \"\\033[92m\"  # Green\n",
    "        elif sentiment == 'NEGATIVE':\n",
    "            color = \"\\033[91m\"  # Red\n",
    "        else:\n",
    "            color = \"\\033[93m\"  # Yellow\n",
    "        \n",
    "        colored_text += f\"{color}{sentence}\\033[0m \"\n",
    "    return colored_text"
   ]
  },
  {
   "cell_type": "code",
   "execution_count": 13,
   "id": "b62d77b8-af9a-43bc-8556-57950cce2de1",
   "metadata": {},
   "outputs": [
    {
     "name": "stdout",
     "output_type": "stream",
     "text": [
      "\u001b[92mYou have cancer but its not terminal.\u001b[0m \u001b[92mYou don't have a broken bone.\u001b[0m \u001b[91mYou have the flu\u001b[0m \n"
     ]
    }
   ],
   "source": [
    "# Example paragraph\n",
    "paragraph = \"You have cancer but its not terminal. You don't have a broken bone. You have the flu\"\n",
    "\n",
    "# Analyze the sentiment\n",
    "sentiments = analyze_paragraph_sentiment(paragraph)\n",
    "\n",
    "# Print color-coded output\n",
    "print(colorize_text(sentiments))"
   ]
  },
  {
   "cell_type": "code",
   "execution_count": null,
   "id": "e5aea803-ec60-4a53-b79d-29bb7075b95a",
   "metadata": {},
   "outputs": [],
   "source": []
  }
 ],
 "metadata": {
  "kernelspec": {
   "display_name": "ai_dev",
   "language": "python",
   "name": "ai_dev"
  },
  "language_info": {
   "codemirror_mode": {
    "name": "ipython",
    "version": 3
   },
   "file_extension": ".py",
   "mimetype": "text/x-python",
   "name": "python",
   "nbconvert_exporter": "python",
   "pygments_lexer": "ipython3",
   "version": "3.10.13"
  }
 },
 "nbformat": 4,
 "nbformat_minor": 5
}
